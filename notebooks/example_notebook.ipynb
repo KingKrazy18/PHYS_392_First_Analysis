{
"cells": [
{
"cell_type": "code",
"execution_count": null,
"id": "test-setup",
"metadata": {},
"outputs": [],
"source": [
"%run ../setup_main_analysis.py"
]
}
],
"metadata": {
"kernelspec": {
"display_name": "Python 3",
"language": "python",
"name": "python3"
},
"language_info": {
"file_extension": ".py",
"mimetype": "text/x-python",
"name": "python",
"version": "3.x"
}
},
"nbformat": 4,
"nbformat_minor": 5
